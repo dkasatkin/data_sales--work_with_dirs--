{
 "cells": [
  {
   "cell_type": "markdown",
   "metadata": {},
   "source": [
    "# Пользователи и товары (работа с папками)"
   ]
  },
  {
   "cell_type": "markdown",
   "metadata": {},
   "source": [
    "## Для анализа выполним несколько задач"
   ]
  },
  {
   "cell_type": "markdown",
   "metadata": {},
   "source": [
    "1. Соберём все данные из папки data в один датафрэйм, имеющий следующие столбцы: колонки из самих файлов (product_id, quantity), а также имя пользователя (name), и дата этих покупок (date), соответствует названию папки, где лежит папка с пользователем)\n",
    "\n",
    "2. Какой пользователь купил больше всего товаров?\n",
    "\n",
    "3. Найдём топ-10 товаров по числу проданных единиц за всё время и построим барплот. Сколько было продано единиц товара с product_id=56?\n",
    "\n",
    "4. Визуализируем продажи по дням.\n",
    "\n",
    "5. Сколько пользователей приобрели какой-либо товар повторно (более 1 раза)? "
   ]
  },
  {
   "cell_type": "code",
   "execution_count": 9,
   "metadata": {},
   "outputs": [],
   "source": [
    "# Импортируем библиотеки\n",
    "\n",
    "import pandas as pd\n",
    "import matplotlib.pyplot as plt\n",
    "import seaborn as sns\n",
    "import os"
   ]
  },
  {
   "cell_type": "code",
   "execution_count": 10,
   "metadata": {},
   "outputs": [],
   "source": [
    "# Задаем настройки\n",
    "\n",
    "from matplotlib import rcParams\n",
    "rcParams['figure.figsize'] = (12, 8)\n",
    "sns.set_theme(style=\"darkgrid\")"
   ]
  },
  {
   "cell_type": "markdown",
   "metadata": {},
   "source": [
    "## 1. Соберем все данные в один датафрейм, имеющий столбцы\n",
    "## prodact_id, quantity, name, date"
   ]
  },
  {
   "cell_type": "code",
   "execution_count": 11,
   "metadata": {},
   "outputs": [],
   "source": [
    "# Для выполнения этого задания воспользуемся библиотекой os\n",
    "\n",
    "# Пропишем путь до папки, с которой буем работать\n",
    "path_to_dir = 'data'\n",
    "\n",
    "# Создадим пустой датафрейм. С ним будем объединять остальные\n",
    "user_sales = pd.DataFrame()\n",
    "\n",
    "# С помощью цикла будем записывать путь к файлу в строку\n",
    "for root, dirs, files in os.walk(path_to_dir, topdown=False):\n",
    "    for name in files:\n",
    "        path_to_one_file = os.path.join(root, name)\n",
    "        \n",
    "        # Создадим датафрейм для этого пути\n",
    "        open_df = pd.read_csv(path_to_one_file)\n",
    " \n",
    "        # Преобразуем строку\n",
    "        # и из каждой строки добавим еще в столбцы\n",
    "        # name и date -2 и -3 элементы\n",
    "        open_df['name'] = path_to_one_file.split('/')[-2]\n",
    "        open_df['date'] = path_to_one_file.split('/')[-3]\n",
    "\n",
    "        # Объединим датафреймы из разных файлов в один\n",
    "        user_sales = pd.concat((user_sales, open_df), ignore_index=True)"
   ]
  },
  {
   "cell_type": "code",
   "execution_count": 12,
   "metadata": {},
   "outputs": [],
   "source": [
    "# Удалим столбец с индексами\n",
    "\n",
    "user_sales = user_sales.drop(columns=['Unnamed: 0'])"
   ]
  },
  {
   "cell_type": "code",
   "execution_count": 13,
   "metadata": {},
   "outputs": [],
   "source": [
    "# Переведем колонку date в формат даты\n",
    "\n",
    "user_sales['date'] = pd.to_datetime(user_sales.date, dayfirst=True)"
   ]
  },
  {
   "cell_type": "code",
   "execution_count": 14,
   "metadata": {},
   "outputs": [
    {
     "data": {
      "text/html": [
       "<div>\n",
       "<style scoped>\n",
       "    .dataframe tbody tr th:only-of-type {\n",
       "        vertical-align: middle;\n",
       "    }\n",
       "\n",
       "    .dataframe tbody tr th {\n",
       "        vertical-align: top;\n",
       "    }\n",
       "\n",
       "    .dataframe thead th {\n",
       "        text-align: right;\n",
       "    }\n",
       "</style>\n",
       "<table border=\"1\" class=\"dataframe\">\n",
       "  <thead>\n",
       "    <tr style=\"text-align: right;\">\n",
       "      <th></th>\n",
       "      <th>product_id</th>\n",
       "      <th>quantity</th>\n",
       "      <th>name</th>\n",
       "      <th>date</th>\n",
       "    </tr>\n",
       "  </thead>\n",
       "  <tbody>\n",
       "    <tr>\n",
       "      <th>0</th>\n",
       "      <td>18</td>\n",
       "      <td>4</td>\n",
       "      <td>Petr_Fedorov</td>\n",
       "      <td>2020-12-07</td>\n",
       "    </tr>\n",
       "    <tr>\n",
       "      <th>1</th>\n",
       "      <td>94</td>\n",
       "      <td>4</td>\n",
       "      <td>Petr_Fedorov</td>\n",
       "      <td>2020-12-07</td>\n",
       "    </tr>\n",
       "    <tr>\n",
       "      <th>2</th>\n",
       "      <td>95</td>\n",
       "      <td>2</td>\n",
       "      <td>Vasiliy_Ivanov</td>\n",
       "      <td>2020-12-07</td>\n",
       "    </tr>\n",
       "    <tr>\n",
       "      <th>3</th>\n",
       "      <td>83</td>\n",
       "      <td>3</td>\n",
       "      <td>Vasiliy_Ivanov</td>\n",
       "      <td>2020-12-07</td>\n",
       "    </tr>\n",
       "    <tr>\n",
       "      <th>4</th>\n",
       "      <td>64</td>\n",
       "      <td>1</td>\n",
       "      <td>Vasiliy_Ivanov</td>\n",
       "      <td>2020-12-07</td>\n",
       "    </tr>\n",
       "  </tbody>\n",
       "</table>\n",
       "</div>"
      ],
      "text/plain": [
       "   product_id  quantity            name       date\n",
       "0          18         4    Petr_Fedorov 2020-12-07\n",
       "1          94         4    Petr_Fedorov 2020-12-07\n",
       "2          95         2  Vasiliy_Ivanov 2020-12-07\n",
       "3          83         3  Vasiliy_Ivanov 2020-12-07\n",
       "4          64         1  Vasiliy_Ivanov 2020-12-07"
      ]
     },
     "execution_count": 14,
     "metadata": {},
     "output_type": "execute_result"
    }
   ],
   "source": [
    "user_sales.head()"
   ]
  },
  {
   "cell_type": "markdown",
   "metadata": {},
   "source": [
    "## 2. Выясним, какой пользователь купил больше всего товаров"
   ]
  },
  {
   "cell_type": "code",
   "execution_count": 15,
   "metadata": {},
   "outputs": [
    {
     "data": {
      "text/plain": [
       "['Alexey_Smirnov', 'Petr_Smirnov']"
      ]
     },
     "execution_count": 15,
     "metadata": {},
     "output_type": "execute_result"
    }
   ],
   "source": [
    "# Делаем группировку по имени и суммируем количество покупок\n",
    "\n",
    "user_sales.groupby('name') \\\n",
    "          .agg({'quantity': 'sum'}) \\\n",
    "          .rename(columns={'quantity': 'quantity_sum'}) \\\n",
    "          .sort_values(by=['quantity_sum'], ascending=False) \\\n",
    "          .query('quantity_sum == quantity_sum.max()') \\\n",
    "          .index \\\n",
    "          .to_list()"
   ]
  },
  {
   "cell_type": "markdown",
   "metadata": {},
   "source": [
    "## 3. Найдём топ-10 товаров по числу проданных единиц за всё время и построим барплот. Сколько было продано единиц товара с product_id=56?"
   ]
  },
  {
   "cell_type": "code",
   "execution_count": 16,
   "metadata": {},
   "outputs": [],
   "source": [
    "# Перед построением диаграммы подготовим датафрейм\n",
    "\n",
    "# top_10\n",
    "top_10 = user_sales.groupby('product_id') \\\n",
    "          .agg({'quantity': 'sum'}) \\\n",
    "          .rename(columns={'quantity': 'sum_sales'}) \\\n",
    "          .reset_index() \\\n",
    "          .sort_values(by=['sum_sales'], ascending=False)[:10] \\\n",
    "          .sort_values(by='product_id')"
   ]
  },
  {
   "cell_type": "code",
   "execution_count": 17,
   "metadata": {},
   "outputs": [
    {
     "data": {
      "text/plain": [
       "<AxesSubplot:xlabel='product_id', ylabel='sum_sales'>"
      ]
     },
     "execution_count": 17,
     "metadata": {},
     "output_type": "execute_result"
    },
    {
     "data": {
      "image/png": "[encoded data removed]",
      "text/plain": [
       "<Figure size 864x576 with 1 Axes>"
      ]
     },
     "metadata": {},
     "output_type": "display_data"
    }
   ],
   "source": [
    "# Визуализируем данные\n",
    "\n",
    "sns.barplot(data=top_10,\n",
    "            x='product_id',\n",
    "            y='sum_sales',\n",
    "            color='salmon', \n",
    "            alpha=0.55,\n",
    "            order=top_10.product_id.unique())\n",
    "\n",
    "# С product_id = 56 было продано 18 единиц"
   ]
  },
  {
   "cell_type": "markdown",
   "metadata": {},
   "source": [
    "## 4. Визуализируем продажи по дням"
   ]
  },
  {
   "cell_type": "code",
   "execution_count": 18,
   "metadata": {},
   "outputs": [
    {
     "data": {
      "text/html": [
       "<div>\n",
       "<style scoped>\n",
       "    .dataframe tbody tr th:only-of-type {\n",
       "        vertical-align: middle;\n",
       "    }\n",
       "\n",
       "    .dataframe tbody tr th {\n",
       "        vertical-align: top;\n",
       "    }\n",
       "\n",
       "    .dataframe thead th {\n",
       "        text-align: right;\n",
       "    }\n",
       "</style>\n",
       "<table border=\"1\" class=\"dataframe\">\n",
       "  <thead>\n",
       "    <tr style=\"text-align: right;\">\n",
       "      <th></th>\n",
       "      <th>date</th>\n",
       "      <th>sum_sales</th>\n",
       "    </tr>\n",
       "  </thead>\n",
       "  <tbody>\n",
       "    <tr>\n",
       "      <th>0</th>\n",
       "      <td>2020-12-03</td>\n",
       "      <td>60</td>\n",
       "    </tr>\n",
       "    <tr>\n",
       "      <th>1</th>\n",
       "      <td>2020-12-04</td>\n",
       "      <td>113</td>\n",
       "    </tr>\n",
       "    <tr>\n",
       "      <th>2</th>\n",
       "      <td>2020-12-05</td>\n",
       "      <td>61</td>\n",
       "    </tr>\n",
       "    <tr>\n",
       "      <th>3</th>\n",
       "      <td>2020-12-06</td>\n",
       "      <td>15</td>\n",
       "    </tr>\n",
       "    <tr>\n",
       "      <th>4</th>\n",
       "      <td>2020-12-07</td>\n",
       "      <td>94</td>\n",
       "    </tr>\n",
       "    <tr>\n",
       "      <th>5</th>\n",
       "      <td>2020-12-08</td>\n",
       "      <td>68</td>\n",
       "    </tr>\n",
       "    <tr>\n",
       "      <th>6</th>\n",
       "      <td>2020-12-09</td>\n",
       "      <td>69</td>\n",
       "    </tr>\n",
       "  </tbody>\n",
       "</table>\n",
       "</div>"
      ],
      "text/plain": [
       "        date  sum_sales\n",
       "0 2020-12-03         60\n",
       "1 2020-12-04        113\n",
       "2 2020-12-05         61\n",
       "3 2020-12-06         15\n",
       "4 2020-12-07         94\n",
       "5 2020-12-08         68\n",
       "6 2020-12-09         69"
      ]
     },
     "execution_count": 18,
     "metadata": {},
     "output_type": "execute_result"
    }
   ],
   "source": [
    "# Подготовим данные для построение barplot\n",
    "\n",
    "date_sales = user_sales.groupby('date') \\\n",
    "                       .agg({'quantity': 'sum'}) \\\n",
    "                       .rename(columns={'quantity': 'sum_sales'}) \\\n",
    "                       .reset_index()\n",
    "date_sales"
   ]
  },
  {
   "cell_type": "code",
   "execution_count": 19,
   "metadata": {
    "scrolled": false
   },
   "outputs": [
    {
     "data": {
      "text/plain": [
       "[Text(0, 0, '2020-12-03'),\n",
       " Text(1, 0, '2020-12-04'),\n",
       " Text(2, 0, '2020-12-05'),\n",
       " Text(3, 0, '2020-12-06'),\n",
       " Text(4, 0, '2020-12-07'),\n",
       " Text(5, 0, '2020-12-08'),\n",
       " Text(6, 0, '2020-12-09')]"
      ]
     },
     "execution_count": 19,
     "metadata": {},
     "output_type": "execute_result"
    },
    {
     "data": {
      "image/png": "[encoded data removed]",
      "text/plain": [
       "<Figure size 864x576 with 1 Axes>"
      ]
     },
     "metadata": {},
     "output_type": "display_data"
    }
   ],
   "source": [
    "# Строим график\n",
    "\n",
    "fig, ax = plt.subplots()    \n",
    "fig = sns.barplot(x=\"date\",\n",
    "                  y=\"sum_sales\",\n",
    "                  data=date_sales, \n",
    "                  estimator=sum,\n",
    "                  ci=None,\n",
    "                  ax=ax)\n",
    "\n",
    "x_dates = date_sales['date'].dt.strftime('%Y-%m-%d').sort_values()\n",
    "ax.set_xticklabels(labels=x_dates, rotation=45, ha='right')"
   ]
  },
  {
   "cell_type": "code",
   "execution_count": 20,
   "metadata": {},
   "outputs": [],
   "source": [
    "# Из графика видно:\n",
    "# 4 декабря было куплено почти в два раза больше товаров, чем в предыдущий день\n",
    "# Максимальное число товаров было продано 4 декабря\n",
    "# Меньше всего товаров было приобретено 6 декабря\n",
    "# 8 и 9 декабря было продано примерно одинаковое число товаров"
   ]
  },
  {
   "cell_type": "markdown",
   "metadata": {},
   "source": [
    "## 5. Сколько пользователей приобрели какой-либо товар повторно (более 1 раза)? "
   ]
  },
  {
   "cell_type": "code",
   "execution_count": 21,
   "metadata": {
    "scrolled": true
   },
   "outputs": [
    {
     "data": {
      "text/html": [
       "<div>\n",
       "<style scoped>\n",
       "    .dataframe tbody tr th:only-of-type {\n",
       "        vertical-align: middle;\n",
       "    }\n",
       "\n",
       "    .dataframe tbody tr th {\n",
       "        vertical-align: top;\n",
       "    }\n",
       "\n",
       "    .dataframe thead th {\n",
       "        text-align: right;\n",
       "    }\n",
       "</style>\n",
       "<table border=\"1\" class=\"dataframe\">\n",
       "  <thead>\n",
       "    <tr style=\"text-align: right;\">\n",
       "      <th></th>\n",
       "      <th></th>\n",
       "      <th>date</th>\n",
       "    </tr>\n",
       "    <tr>\n",
       "      <th>name</th>\n",
       "      <th>product_id</th>\n",
       "      <th></th>\n",
       "    </tr>\n",
       "  </thead>\n",
       "  <tbody>\n",
       "    <tr>\n",
       "      <th>Anton_Ivanov</th>\n",
       "      <th>15</th>\n",
       "      <td>2</td>\n",
       "    </tr>\n",
       "    <tr>\n",
       "      <th>Petr_Fedorov</th>\n",
       "      <th>94</th>\n",
       "      <td>2</td>\n",
       "    </tr>\n",
       "  </tbody>\n",
       "</table>\n",
       "</div>"
      ],
      "text/plain": [
       "                         date\n",
       "name         product_id      \n",
       "Anton_Ivanov 15             2\n",
       "Petr_Fedorov 94             2"
      ]
     },
     "execution_count": 21,
     "metadata": {},
     "output_type": "execute_result"
    }
   ],
   "source": [
    "# Повтором будем считать покупку товара с одинаковым product_id, совершенную в разные дни\n",
    "# С помощью drop_duplicates уберем покупки, совершенные повторно в один и тот же день\n",
    "\n",
    "user_sales.drop_duplicates(subset=['name', 'product_id', 'date']) \\\n",
    "          .groupby(['name', 'product_id']) \\\n",
    "          .agg({'date': 'count'}) \\\n",
    "          .query('date > 1')\n",
    "\n",
    "# Два пользователя приобрели какой-либо товар повторно"
   ]
  },
  {
   "cell_type": "code",
   "execution_count": null,
   "metadata": {},
   "outputs": [],
   "source": []
  }
 ],
 "metadata": {
  "kernelspec": {
   "display_name": "Python 3",
   "language": "python",
   "name": "python3"
  },
  "language_info": {
   "codemirror_mode": {
    "name": "ipython",
    "version": 3
   },
   "file_extension": ".py",
   "mimetype": "text/x-python",
   "name": "python",
   "nbconvert_exporter": "python",
   "pygments_lexer": "ipython3",
   "version": "3.8.8"
  }
 },
 "nbformat": 4,
 "nbformat_minor": 4
}
